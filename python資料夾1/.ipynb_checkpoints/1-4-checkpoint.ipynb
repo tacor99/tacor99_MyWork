{
 "cells": [
  {
   "cell_type": "code",
   "execution_count": 2,
   "metadata": {},
   "outputs": [],
   "source": [
    "'''\n",
    "記錄階乘每一個質因數出現的頻率。例如 825 這個值, 可以用數字序列 (0 1 2 0 1), 來表示 0 個 2, 1 個 3, 2 個 5, 0 個 7, 1 個 11。\n",
    "所以數字序列中的每個元素是代表連續出現的質因數, 而上面的數值, 代表該質因數出現的頻率。\n",
    "\n",
    "問題:寫一個程式讀入一個數字 N (2<=N<=100), 算出階乘結果，以之前的方式來表示這個階乘。\n",
    "輸入有許多筆測試資料, 一筆一列, 每一列包含一個數字 N, 當 N=0 代表輸入結束, 這一列不該被處理。\n",
    "每一筆測試資料, 需要輸出一組區塊結果, 這組區塊, 先輸出 N! = , 接下來以上述的方式, \n",
    "依序輸出該質因數在這個階乘中出現的頻率次數為何（長度3，靠右對齊）, 請注意, 每一列最多只能印出 15 個質因數, 多餘的得換一列再印出。\n",
    "'''\n",
    "%matplotlib inline\n",
    "import numpy as np\n",
    "import matplotlib.pyplot as plt\n",
    "import sympy"
   ]
  },
  {
   "cell_type": "code",
   "execution_count": 3,
   "metadata": {},
   "outputs": [],
   "source": [
    "a=list(sympy.primerange(1,100))"
   ]
  },
  {
   "cell_type": "code",
   "execution_count": 4,
   "metadata": {},
   "outputs": [
    {
     "name": "stdout",
     "output_type": "stream",
     "text": [
      "[2, 3, 5, 7, 11, 13, 17, 19, 23, 29, 31, 37, 41, 43, 47, 53, 59, 61, 67, 71, 73, 79, 83, 89, 97]\n"
     ]
    }
   ],
   "source": [
    "print(a)"
   ]
  },
  {
   "cell_type": "code",
   "execution_count": 1,
   "metadata": {},
   "outputs": [],
   "source": [
    "'''\n",
    "記錄階乘每一個質因數出現的頻率。例如 825 這個值, 可以用數字序列 (0 1 2 0 1), 來表示 0 個 2, 1 個 3, 2 個 5, 0 個 7, 1 個 11。\n",
    "所以數字序列中的每個元素是代表連續出現的質因數, 而上面的數值, 代表該質因數出現的頻率。\n",
    "\n",
    "問題:寫一個程式讀入一個數字 N (2<=N<=1000), 算出階乘結果，以之前的方式來表示這個階乘。\n",
    "輸入有許多筆測試資料, 一筆一列, 每一列包含一個數字 N, 當 N=0 代表輸入結束, 這一列不該被處理。\n",
    "每一筆測試資料, 需要輸出一組區塊結果, 這組區塊, 先輸出 N! = , 接下來以上述的方式, \n",
    "依序輸出該質因數在這個階乘中出現的頻率次數為何（長度3，靠右對齊）, 請注意, 每一列最多只能印出 15 個質因數, 多餘的得換一列再印出。\n",
    "'''\n",
    "%matplotlib inline\n",
    "import numpy as np\n",
    "import matplotlib.pyplot as plt\n",
    "import sympy"
   ]
  },
  {
   "cell_type": "code",
   "execution_count": null,
   "metadata": {},
   "outputs": [
    {
     "name": "stdout",
     "output_type": "stream",
     "text": [
      "請輸入一個正整數N, 0<N<1000 : 744\n"
     ]
    }
   ],
   "source": [
    "b=input('請輸入一個正整數N, 0<N<1000 : ')\n",
    "b=int(b)\n",
    "a=list(sympy.primerange(1,1000))\n",
    "j=[]\n",
    "h=1\n",
    "for i in a:\n",
    "    while h<b:\n",
    "        k=0\n",
    "        while b%i==0 :\n",
    "            k+=1\n",
    "            b=b/i\n",
    "        j.append(k)\n",
    "        h=h*(i**k)\n",
    "print(j)\n"
   ]
  },
  {
   "cell_type": "code",
   "execution_count": 16,
   "metadata": {},
   "outputs": [],
   "source": []
  },
  {
   "cell_type": "code",
   "execution_count": null,
   "metadata": {},
   "outputs": [],
   "source": [
    "print(j)"
   ]
  },
  {
   "cell_type": "code",
   "execution_count": null,
   "metadata": {},
   "outputs": [],
   "source": []
  }
 ],
 "metadata": {
  "kernelspec": {
   "display_name": "Python 3",
   "language": "python",
   "name": "python3"
  },
  "language_info": {
   "codemirror_mode": {
    "name": "ipython",
    "version": 3
   },
   "file_extension": ".py",
   "mimetype": "text/x-python",
   "name": "python",
   "nbconvert_exporter": "python",
   "pygments_lexer": "ipython3",
   "version": "3.7.3"
  }
 },
 "nbformat": 4,
 "nbformat_minor": 2
}
