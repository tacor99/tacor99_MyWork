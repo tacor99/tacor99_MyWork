{
 "cells": [
  {
   "cell_type": "markdown",
   "metadata": {},
   "source": [
    "我們來寫個程式, 算算日子。發揮你的創意, 可以寫出很多有趣的程式。\n",
    "\n",
    "【提示】\n",
    "在 Python 中有個標準的 `datetime` 模組, 專門處理時間相關的。我們可以知道今天是幾月幾號、可以做日子的加減... "
   ]
  },
  {
   "cell_type": "markdown",
   "metadata": {},
   "source": [
    "### 問題 1: 我們到今天交往多久?\n",
    "\n",
    "想想, 如果在任何一天, 你可以告訴你親愛的, 到今天交往 (結婚) 第幾天, 那是多麼浪漫?\n",
    "\n",
    "【輸入】\n",
    "你們開始交往 (或結婚) 的日子。\n",
    "\n",
    "【輸出】\n",
    "到今天是第幾天。"
   ]
  },
  {
   "cell_type": "markdown",
   "metadata": {},
   "source": [
    "### 問題 2: 我的、你的、我們的第一萬天\n",
    "\n",
    "你想知道, 你生命中的第一萬天是哪一天? 或是, 你的某個重要日子的第一萬天?\n",
    "\n",
    "【輸入】\n",
    "某個人的生日。\n",
    "\n",
    "【輸出】\n",
    "那個人生命的第一萬天。"
   ]
  }
 ],
 "metadata": {
  "kernelspec": {
   "display_name": "Python 3",
   "language": "python",
   "name": "python3"
  },
  "language_info": {
   "codemirror_mode": {
    "name": "ipython",
    "version": 3
   },
   "file_extension": ".py",
   "mimetype": "text/x-python",
   "name": "python",
   "nbconvert_exporter": "python",
   "pygments_lexer": "ipython3",
   "version": "3.7.3"
  }
 },
 "nbformat": 4,
 "nbformat_minor": 2
}
