{
 "cells": [
  {
   "cell_type": "markdown",
   "metadata": {},
   "source": [
    "我們來和電腦玩玩猜數字遊戲。"
   ]
  },
  {
   "cell_type": "markdown",
   "metadata": {},
   "source": [
    "### 問題 1. 基本款\n",
    "\n",
    "電腦先「想」一個 1~100 間的一個數字。然後你來猜電腦的數字, 太大或太小電腦會告訴你, 直到你猜對為止。\n",
    "\n",
    "【變化型】\n",
    "假設電腦心中想的是 87。\n",
    "\n",
    "* 第一次你猜 50, 電腦會告訴你 51-100\n",
    "* 第二次猜 75, 電腦會告訴你 76-100\n",
    "* 第三次猜 90, 電腦會告訴你 76-89\n",
    "\n",
    "等等。\n"
   ]
  },
  {
   "cell_type": "markdown",
   "metadata": {},
   "source": [
    "### 問題 2. 幾A幾B\n",
    "\n",
    "這是比較困難的問題, 就是和電腦玩「幾A幾B」這種猜數字。\n",
    "\n",
    "【提示】\n",
    "我們可以先用「各個擊破」的方式, 先寫一些小程式。\n",
    "\n",
    "* 寫一個程式, 能讓電腦產生四個 0-9 不重覆數字。\n",
    "* 寫一個程式, 設 x 是使用者猜的答案, y 是正確答案, 然後可以判斷這個 x 是幾 A 幾 B。\n",
    "* 最後, 可以讓電腦也猜你的數字!"
   ]
  }
 ],
 "metadata": {
  "kernelspec": {
   "display_name": "Python 3",
   "language": "python",
   "name": "python3"
  },
  "language_info": {
   "codemirror_mode": {
    "name": "ipython",
    "version": 3
   },
   "file_extension": ".py",
   "mimetype": "text/x-python",
   "name": "python",
   "nbconvert_exporter": "python",
   "pygments_lexer": "ipython3",
   "version": "3.7.3"
  }
 },
 "nbformat": 4,
 "nbformat_minor": 2
}
