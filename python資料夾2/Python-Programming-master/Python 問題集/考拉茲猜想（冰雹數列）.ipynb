{
 "cells": [
  {
   "cell_type": "markdown",
   "metadata": {},
   "source": [
    "所謂考拉茲猜想 (Collatz conjecture), 又稱為 $3n+1$ 猜想、冰雹數列猜想等等, 是指給了一個起始的正整數 $a_1$, 用以下的規則產生下一個數。假設我們已經有 $a_n$ 了, 那麼\n",
    "\n",
    "$$a_{n+1} = \\begin{cases}a_n/2, & \\mbox{若 $a_n$ 為偶數}\\\\\n",
    "3a_n + 1, & \\mbox{若 $a_n$ 為奇數}\\end{cases} \\mbox{。}$$\n",
    "\n",
    "考拉茲猜想就是說, 這個數字最終都會得到 $1$。"
   ]
  },
  {
   "cell_type": "markdown",
   "metadata": {},
   "source": [
    "### 問題: 寫個程式來計算冰雹數列\n",
    "\n",
    "【輸入】\n",
    "一個正整數。\n",
    "\n",
    "【輸出】\n",
    "冰雹數列, 到 1 的時候停止。\n",
    "\n",
    "【變型】\n",
    "1. 可以用一些創意方式表示冰雹數列, 如把圖畫出來!\n",
    "2. 也可以輸入 $i$, $j$, 找出從 $i$ 到 $j$, 哪個數字為起始值時, 冰雹數列的長度最長!"
   ]
  }
 ],
 "metadata": {
  "kernelspec": {
   "display_name": "Python 3",
   "language": "python",
   "name": "python3"
  },
  "language_info": {
   "codemirror_mode": {
    "name": "ipython",
    "version": 3
   },
   "file_extension": ".py",
   "mimetype": "text/x-python",
   "name": "python",
   "nbconvert_exporter": "python",
   "pygments_lexer": "ipython3",
   "version": "3.7.3"
  }
 },
 "nbformat": 4,
 "nbformat_minor": 2
}
