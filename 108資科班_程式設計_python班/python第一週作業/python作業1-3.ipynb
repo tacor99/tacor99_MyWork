{
 "cells": [
  {
   "cell_type": "code",
   "execution_count": 76,
   "metadata": {},
   "outputs": [],
   "source": [
    "'''\n",
    "Q10107:What is the Median?\n",
    "輸入包含了N個（N<10000）的整數。 \n",
    "對每一個輸入，\n",
    "請輸出到現在為止已輸入的數的中間數。 \n",
    "'''\n",
    "import math"
   ]
  },
  {
   "cell_type": "code",
   "execution_count": 81,
   "metadata": {},
   "outputs": [],
   "source": [
    " #求中位數\n",
    "def median(k):\n",
    "    a=sorted(k)\n",
    "    if len(a)%2==1:\n",
    "        return a[math.floor(len(a)/2)]\n",
    "    else:\n",
    "        return (a[math.floor(len(a)/2)-1]+a[math.floor(len(a)/2)])/2.0"
   ]
  },
  {
   "cell_type": "code",
   "execution_count": 82,
   "metadata": {},
   "outputs": [
    {
     "name": "stdout",
     "output_type": "stream",
     "text": [
      "請輸入一串數字, 並用空白鍵隔開:7 9 2 4 \n",
      "7.0\n",
      "8.0\n",
      "7.0\n",
      "5.5\n"
     ]
    }
   ],
   "source": [
    "b=input(\"請輸入一串數字, 並用空白鍵隔開:\")\n",
    "c=b.split()\n",
    "e=[]\n",
    "for d in c :\n",
    "    e.append(float(d))\n",
    "    f=median(e)\n",
    "    print(f)    "
   ]
  },
  {
   "cell_type": "code",
   "execution_count": null,
   "metadata": {},
   "outputs": [],
   "source": []
  }
 ],
 "metadata": {
  "kernelspec": {
   "display_name": "Python 3",
   "language": "python",
   "name": "python3"
  },
  "language_info": {
   "codemirror_mode": {
    "name": "ipython",
    "version": 3
   },
   "file_extension": ".py",
   "mimetype": "text/x-python",
   "name": "python",
   "nbconvert_exporter": "python",
   "pygments_lexer": "ipython3",
   "version": "3.7.3"
  }
 },
 "nbformat": 4,
 "nbformat_minor": 2
}
