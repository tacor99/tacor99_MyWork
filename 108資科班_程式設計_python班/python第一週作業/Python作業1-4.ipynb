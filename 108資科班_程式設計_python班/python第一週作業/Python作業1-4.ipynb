{
 "cells": [
  {
   "cell_type": "code",
   "execution_count": 2,
   "metadata": {},
   "outputs": [
    {
     "name": "stdout",
     "output_type": "stream",
     "text": [
      "year=2019\n",
      "2019 不是閏年!\n"
     ]
    }
   ],
   "source": [
    "year=int(input(\"year=\"))\n",
    "f=0\n",
    "if year%4 ==0 :\n",
    "    f=1\n",
    "    if year%100==0:\n",
    "        f=0\n",
    "        if year%400==0:\n",
    "            f=1\n",
    "\n",
    "if f==1 :\n",
    "    print( year,\"是閏年!\")\n",
    "else:\n",
    "    print( year,\"不是閏年!\")\n"
   ]
  },
  {
   "cell_type": "code",
   "execution_count": null,
   "metadata": {},
   "outputs": [],
   "source": []
  }
 ],
 "metadata": {
  "kernelspec": {
   "display_name": "Python 3",
   "language": "python",
   "name": "python3"
  },
  "language_info": {
   "codemirror_mode": {
    "name": "ipython",
    "version": 3
   },
   "file_extension": ".py",
   "mimetype": "text/x-python",
   "name": "python",
   "nbconvert_exporter": "python",
   "pygments_lexer": "ipython3",
   "version": "3.7.3"
  }
 },
 "nbformat": 4,
 "nbformat_minor": 2
}
