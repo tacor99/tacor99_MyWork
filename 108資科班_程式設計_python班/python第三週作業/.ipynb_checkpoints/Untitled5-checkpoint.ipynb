{
 "cells": [
  {
   "cell_type": "code",
   "execution_count": null,
   "metadata": {},
   "outputs": [],
   "source": [
    "import bs4, requests\n",
    "\n",
    "url = 'http://www.taiwanlottery.com.tw'\n",
    "html = requests.get(url)\n",
    "print(\"網頁下載中 ...\")\n",
    "html.raise_for_status()   # 驗證網頁是否下載成功 \n",
    "print(type(html.raise_for_status()))\n",
    "print(\"網頁下載完成\")\n",
    "\n",
    "objSoup = bs4.BeautifulSoup(html.text, 'lxml')      # 建立BeautifulSoup物件\n",
    "\n",
    "dataTag = objSoup.select('.contents_box02')         # 尋找class是contents_box02\n",
    "print(\"串列長度\", len(dataTag))\n",
    "for i in range(len(dataTag)):                       # 列出含contents_box02的串列                 \n",
    "    print(dataTag[i])\n",
    "        \n",
    "# 找尋開出順序與大小順序的球\n",
    "balls = dataTag[0].find_all('div', {'class':'ball_tx ball_green'})\n",
    "print(\"開出順序 : \", end='')\n",
    "for i in range(6):                                  # 前6球是開出順序\n",
    "    print(balls[i].text, end='   ')\n",
    "\n",
    "print(\"\\n大小順序 : \", end='')\n",
    "for i in range(6,len(balls)):                       # 第7球以後是大小順序\n",
    "    print(balls[i].text, end='   ')\n",
    "\n",
    "# 找出第二區的紅球                   \n",
    "redball = dataTag[0].find_all('div', {'class':'ball_red'})\n",
    "print(\"\\n第二區   :\", redball[0].text)"
   ]
  }
 ],
 "metadata": {
  "kernelspec": {
   "display_name": "Python 3",
   "language": "python",
   "name": "python3"
  },
  "language_info": {
   "codemirror_mode": {
    "name": "ipython",
    "version": 3
   },
   "file_extension": ".py",
   "mimetype": "text/x-python",
   "name": "python",
   "nbconvert_exporter": "python",
   "pygments_lexer": "ipython3",
   "version": "3.7.3"
  }
 },
 "nbformat": 4,
 "nbformat_minor": 2
}
