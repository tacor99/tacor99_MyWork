{
 "cells": [
  {
   "cell_type": "markdown",
   "metadata": {},
   "source": [
    "## 105年3月實作題第一題"
   ]
  },
  {
   "cell_type": "code",
   "execution_count": null,
   "metadata": {},
   "outputs": [],
   "source": [
    "# 問題描述\n",
    "\n",
    "# 一次考試中，於所有及格學生中獲取最低分數者最為幸運，反之，於所有不及格同\n",
    "# 學中，獲取最高分數者，可以說是最為不幸，而此二種分數，可以視為成績指標。\n",
    "# 請你設計一支程式，讀入全班成績(人數不固定)，請對所有分數進行排序，並分別\n",
    "# 找出不及格中最高分數，以及及格中最低分數。\n",
    "# 當找不到最低及格分數，表示對於本次考試而言，這是一個不幸之班級，此時請你\n",
    "# 印出：「worst case」；反之，當找不到最高不及格分數時，請你印出「best case」。\n",
    "# 註：假設及格分數為 60，每筆測資皆為 0~100 間整數，且筆數未定。\n",
    "# 輸入格式\n",
    "# 第一行輸入學生人數，第二行為各學生分數(0~100 間)，分數與分數之間以一個空\n",
    "# 白間格。每一筆測資的學生人數為 1~20 的整數。\n",
    "# 輸出格式\n",
    "# 每筆測資輸出三行。\n",
    "# 第一行由小而大印出所有成績，兩數字之間以一個空白間格，最後一個數字後無空\n",
    "# 白；\n",
    "# 第二行印出最高不及格分數，如果全數及格時，於此行印出 best case；\n",
    "# 第三行印出最低及格分數，當全數不及格時，於此行印出 worst case。\n",
    "# 範例一：輸入\n",
    "# 10\n",
    "# 0 11 22 33 55 66 77 99 88 44\n",
    "# 範例一：正確輸出\n",
    "# 0 11 22 33 44 55 66 77 88 99\n",
    "# 55\n",
    "# 66\n",
    "# （說明）不及格分數最高為 55，及格分數最低為 66。\n",
    "# 範例二：輸入\n",
    "# 1\n",
    "# 13\n",
    "# 範例二：正確輸出\n",
    "# 13\n",
    "# 13\n",
    "# worst case\n",
    "# （說明）由於找不到最低及格分，因此第三行須印出「worst case」。\n",
    "# 範例三：輸入\n",
    "# 2\n",
    "# 73 65\n",
    "# 範例三：正確輸出\n",
    "# 65 73\n",
    "# best case\n",
    "# 65\n",
    "# （說明）由於找不到不及格分，因此第二行須印出「best case」。\n",
    "# 評分說明\n",
    "# 輸入包含若干筆測試資料，每一筆測試資料的執行時間限制(time limit)均為 2 秒，\n",
    "# 依正確通過測資筆數給分。"
   ]
  },
  {
   "cell_type": "code",
   "execution_count": 5,
   "metadata": {},
   "outputs": [
    {
     "name": "stdout",
     "output_type": "stream",
     "text": [
      "請輸入學生人數:10\n",
      "請輸入學生分數:50 51 52 53 54 55 60 65 76 90\n",
      "55\n",
      "60\n"
     ]
    }
   ],
   "source": [
    "in1=input('請輸入學生人數:')\n",
    "in2=input('請輸入學生分數:')\n",
    "in1=int(in1)\n",
    "list1=list(map(int,in2.split(' ')))\n",
    "list1.sort()\n",
    "if list1[0]>=60:\n",
    "    print('Best Case')\n",
    "    print(list1[0])\n",
    "elif list1[in1-1]<=60:\n",
    "    print('Worst Case')\n",
    "    print(list1[in1-1])\n",
    "else:\n",
    "    for i in list1:\n",
    "        if i>=60:\n",
    "            print(list1[list1.index(i)-1])\n",
    "            print (i)\n",
    "            break"
   ]
  }
 ],
 "metadata": {
  "kernelspec": {
   "display_name": "Python 3",
   "language": "python",
   "name": "python3"
  }
 },
 "nbformat": 4,
 "nbformat_minor": 2
}
