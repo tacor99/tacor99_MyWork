{
 "cells": [
  {
   "cell_type": "code",
   "execution_count": null,
   "metadata": {},
   "outputs": [],
   "source": [
    "import requests\n",
    "\n",
    "url = 'http://www.grandtech.info'\n",
    "htmlfile = requests.get(url)\n",
    "if htmlfile.status_code == requests.codes.ok:\n",
    "    pattern = input(\"請輸入欲搜尋的字串 : \")\n",
    "    if pattern in htmlfile.text:                # 方法1\n",
    "            print(f\"搜尋{pattern}成功\"  )\n",
    "        else:\n",
    "            print(f\"搜尋{pattern}失敗\" )\n",
    "        # 使用方法2, 如果找到放在串列name內\n",
    "#         name = re.findall(pattern, htmlfile.text)   # 方法2\n",
    "#         if name != None:\n",
    "#             print(\"%s 出現 %d 次\" % (pattern, len(name)))\n",
    "#         else:\n",
    "#             print(\"%s 出現 0 次\" % pattern)\n",
    "else:\n",
    "    print(\"網頁下載失敗\")\n",
    "print(\"網頁內容大小 = \", len(htmlfile.text),type(htmlfile.text))\n"
   ]
  }
 ],
 "metadata": {
  "kernelspec": {
   "display_name": "Python 3",
   "language": "python",
   "name": "python3"
  },
  "language_info": {
   "codemirror_mode": {
    "name": "ipython",
    "version": 3
   },
   "file_extension": ".py",
   "mimetype": "text/x-python",
   "name": "python",
   "nbconvert_exporter": "python",
   "pygments_lexer": "ipython3",
   "version": "3.7.3"
  }
 },
 "nbformat": 4,
 "nbformat_minor": 2
}
