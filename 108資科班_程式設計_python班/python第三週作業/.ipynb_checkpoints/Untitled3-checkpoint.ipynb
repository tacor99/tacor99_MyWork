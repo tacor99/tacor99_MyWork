{
 "cells": [
  {
   "cell_type": "code",
   "execution_count": null,
   "metadata": {},
   "outputs": [],
   "source": [
    "url = 'http://www.grandtech.info'\n",
    "htmlfile = requests.get(url)\n",
    "if htmlfile.status_code == requests.codes.ok:\n",
    "    pattern = input(\"請輸入欲搜尋的字串 : \")    # pattern存放欲搜尋的字串\n",
    "# 使用方法1\n",
    "#     if pattern in htmlfile.text:                # 方法1\n",
    "#         print(\"搜尋 %s 成功\" % pattern)\n",
    "#     else:\n",
    "#         print(\"搜尋 %s 失敗\" % pattern)\n",
    "    # 使用方法2, 如果找到放在串列name內\n",
    "    name = re.findall(pattern, htmlfile.text)   # 方法2\n",
    "    if name != None:\n",
    "        print(f\"{pattern} 出現 {len(name)} 次\")\n",
    "    else:\n",
    "        print(f\"{pattern} 出現 0 次\")\n",
    "else:\n",
    "    print(\"網頁下載失敗\")"
   ]
  }
 ],
 "metadata": {
  "kernelspec": {
   "display_name": "Python 3",
   "language": "python",
   "name": "python3"
  },
  "language_info": {
   "codemirror_mode": {
    "name": "ipython",
    "version": 3
   },
   "file_extension": ".py",
   "mimetype": "text/x-python",
   "name": "python",
   "nbconvert_exporter": "python",
   "pygments_lexer": "ipython3",
   "version": "3.7.3"
  }
 },
 "nbformat": 4,
 "nbformat_minor": 2
}
