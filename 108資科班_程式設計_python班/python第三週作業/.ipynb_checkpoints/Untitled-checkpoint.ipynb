{
 "cells": [
  {
   "cell_type": "code",
   "execution_count": 1,
   "metadata": {},
   "outputs": [],
   "source": [
    "# The Problem-->\n",
    "\n",
    "# You will be given a decimal number. You will have to convert it to its \"ternary (Base 3)\" \n",
    "\n",
    "#equivalent.\n",
    "\n",
    "\n",
    "# Input-->\n",
    "\n",
    "# The input file contains at most 100 lines of inputs. Each line contains a non-negative decimal\n",
    "\n",
    "#integer N(N<1000000001). Input is terminated by a line containing a negative value. \n",
    "\n",
    "#This line should not be processed.\n",
    "\n",
    "\n",
    "# Output-->\n",
    "\n",
    "# For each line of input produce one line of output. \n",
    "\n",
    "#This line contains the ternary equivalent of decimal value N.\n",
    "\n",
    "\n",
    "# Sample Input-->\n",
    "\n",
    "# 10\n",
    "# 100\n",
    "# 1000\n",
    "#-1(結束)\n",
    "\n",
    "\n",
    "\n",
    "# Sample Output-->\n",
    "\n",
    "# 101\n",
    "# 10201\n",
    "# 1101001"
   ]
  },
  {
   "cell_type": "code",
   "execution_count": 2,
   "metadata": {},
   "outputs": [],
   "source": [
    "# 解題思考\n",
    "\n",
    "# 這一題要將十進位數字轉成三進位。所以，我們要利用一個迴圈來得出這個答案。\n",
    "\n",
    "# 在每一輪迴圈中，我們將輸入的數字 n / 3，在第 i 輪迴圈所得的餘數就代表此三進位數字的第 i 位數字。\n",
    "\n",
    "# 一直重複相同的步驟，直到 n 變為零為止。\n",
    "\n",
    "# 得出每一位數字之後，再將結果輸出，就是答案了。"
   ]
  },
  {
   "cell_type": "code",
   "execution_count": 3,
   "metadata": {},
   "outputs": [],
   "source": [
    "# int main(void)\n",
    "# {\n",
    "#     while (1)\n",
    "#     {\n",
    "#         int n;\n",
    "#         cin >> n;\n",
    "\n",
    "#         if (n < 0) { break; }\n",
    "\n",
    "#         string ans;\n",
    "#         do\n",
    "#         {\n",
    "#             ans = static_cast<char>(n % 3 + '0') + ans;\n",
    "#             n /= 3;\n",
    "#         } while (n);\n",
    "\n",
    "#         cout << ans << endl;\n",
    "#     }\n",
    "\n",
    "# #ifndef ONLINE_JUDGE\n",
    "#     system(\"pause\");\n",
    "# #endif\n",
    "# }"
   ]
  },
  {
   "cell_type": "code",
   "execution_count": null,
   "metadata": {},
   "outputs": [],
   "source": [
    "n=input()"
   ]
  },
  {
   "cell_type": "code",
   "execution_count": null,
   "metadata": {},
   "outputs": [],
   "source": [
    "if n<0 :\n",
    "    break \n",
    "k = n % 3 \n",
    "\n"
   ]
  }
 ],
 "metadata": {
  "kernelspec": {
   "display_name": "Python 3",
   "language": "python",
   "name": "python3"
  },
  "language_info": {
   "codemirror_mode": {
    "name": "ipython",
    "version": 3
   },
   "file_extension": ".py",
   "mimetype": "text/x-python",
   "name": "python",
   "nbconvert_exporter": "python",
   "pygments_lexer": "ipython3",
   "version": "3.7.3"
  }
 },
 "nbformat": 4,
 "nbformat_minor": 2
}
