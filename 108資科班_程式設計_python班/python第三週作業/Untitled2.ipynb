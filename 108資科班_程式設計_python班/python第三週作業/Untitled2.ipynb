{
 "cells": [
  {
   "cell_type": "code",
   "execution_count": null,
   "metadata": {},
   "outputs": [],
   "source": [
    "import requests\n",
    "url = 'http://www.deepstone.com.tw'                     # 網址\n",
    "try:\n",
    "    htmlfile = requests.get(url)\n",
    "    print(\"下載成功\")\n",
    "except Exception as err:                                # err是系統自訂的錯誤訊息\n",
    "    print(\"網頁下載失敗: %s\" % err)\n",
    "# 儲存網頁內容\n",
    "fn = 'out21_11.txt'\n",
    "with open(fn, 'wb') as file_Obj:                        # 以二進位儲存\n",
    "    for diskStorage in htmlfile.iter_content(10240):    # Response物件處理\n",
    "        size = file_Obj.write(diskStorage)              # Response物件寫入\n",
    "        print(size)   # 列出每次寫入大小\n",
    "        \n",
    "    print(\"以 %s 儲存網頁HTML檔案成功\" % fn)"
   ]
  }
 ],
 "metadata": {
  "kernelspec": {
   "display_name": "Python 3",
   "language": "python",
   "name": "python3"
  },
  "language_info": {
   "codemirror_mode": {
    "name": "ipython",
    "version": 3
   },
   "file_extension": ".py",
   "mimetype": "text/x-python",
   "name": "python",
   "nbconvert_exporter": "python",
   "pygments_lexer": "ipython3",
   "version": "3.7.3"
  }
 },
 "nbformat": 4,
 "nbformat_minor": 2
}
