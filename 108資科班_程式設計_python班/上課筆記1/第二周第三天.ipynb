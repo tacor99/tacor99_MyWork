{
 "cells": [
  {
   "cell_type": "code",
   "execution_count": 24,
   "metadata": {},
   "outputs": [
    {
     "name": "stdout",
     "output_type": "stream",
     "text": [
      "['', '', 'abc', '', '', '23', '1', '', '', '', '75', '33', '', '']\n"
     ]
    }
   ],
   "source": [
    "a=\"  abc   23 1    75 33  \"\n",
    "b=a.split(' ')\n",
    "print(b)"
   ]
  },
  {
   "cell_type": "code",
   "execution_count": 2,
   "metadata": {},
   "outputs": [
    {
     "name": "stdout",
     "output_type": "stream",
     "text": [
      "  abc   23 1    75 33\n"
     ]
    }
   ],
   "source": [
    "c=' '.join()\n",
    "print(c)"
   ]
  },
  {
   "cell_type": "code",
   "execution_count": 25,
   "metadata": {},
   "outputs": [
    {
     "name": "stdout",
     "output_type": "stream",
     "text": [
      "['abc', '23', '1', '', '', '75', '33', '', '']\n"
     ]
    }
   ],
   "source": [
    "for i in b:\n",
    "    if i=='':    \n",
    "        b.remove(i)\n",
    "print(b)"
   ]
  },
  {
   "cell_type": "code",
   "execution_count": 12,
   "metadata": {},
   "outputs": [
    {
     "name": "stdout",
     "output_type": "stream",
     "text": [
      "abc 23 1 75 33\n"
     ]
    }
   ],
   "source": [
    "c=' '.join(b)\n",
    "print(c)"
   ]
  },
  {
   "cell_type": "code",
   "execution_count": 23,
   "metadata": {},
   "outputs": [
    {
     "name": "stdout",
     "output_type": "stream",
     "text": [
      "['abc', '23', '1', '75', '33']\n"
     ]
    }
   ],
   "source": [
    "d=list(filter(lambda x:x!='',b))\n",
    "print(d)"
   ]
  },
  {
   "cell_type": "code",
   "execution_count": 26,
   "metadata": {},
   "outputs": [
    {
     "data": {
      "text/plain": [
       "1"
      ]
     },
     "execution_count": 26,
     "metadata": {},
     "output_type": "execute_result"
    }
   ],
   "source": [
    "1|0"
   ]
  },
  {
   "cell_type": "code",
   "execution_count": 27,
   "metadata": {},
   "outputs": [
    {
     "name": "stdout",
     "output_type": "stream",
     "text": [
      "aaa:1111 10101 10001\n"
     ]
    }
   ],
   "source": [
    "a=input('aaa:')"
   ]
  },
  {
   "cell_type": "code",
   "execution_count": 28,
   "metadata": {},
   "outputs": [
    {
     "name": "stdout",
     "output_type": "stream",
     "text": [
      "1111 10101 10001\n"
     ]
    }
   ],
   "source": [
    "print(a)"
   ]
  },
  {
   "cell_type": "code",
   "execution_count": 29,
   "metadata": {},
   "outputs": [
    {
     "data": {
      "text/plain": [
       "str"
      ]
     },
     "execution_count": 29,
     "metadata": {},
     "output_type": "execute_result"
    }
   ],
   "source": [
    "type(a)"
   ]
  },
  {
   "cell_type": "code",
   "execution_count": 34,
   "metadata": {},
   "outputs": [],
   "source": [
    "b=a.split()"
   ]
  },
  {
   "cell_type": "code",
   "execution_count": 35,
   "metadata": {},
   "outputs": [
    {
     "data": {
      "text/plain": [
       "['1111', '10101', '10001']"
      ]
     },
     "execution_count": 35,
     "metadata": {},
     "output_type": "execute_result"
    }
   ],
   "source": [
    "b"
   ]
  },
  {
   "cell_type": "code",
   "execution_count": 36,
   "metadata": {},
   "outputs": [
    {
     "data": {
      "text/plain": [
       "list"
      ]
     },
     "execution_count": 36,
     "metadata": {},
     "output_type": "execute_result"
    }
   ],
   "source": [
    "type(b)"
   ]
  },
  {
   "cell_type": "code",
   "execution_count": 37,
   "metadata": {},
   "outputs": [
    {
     "name": "stdout",
     "output_type": "stream",
     "text": [
      "['1111', '10101', '10001']\n"
     ]
    }
   ],
   "source": [
    "print(b)"
   ]
  },
  {
   "cell_type": "code",
   "execution_count": 42,
   "metadata": {},
   "outputs": [
    {
     "name": "stdout",
     "output_type": "stream",
     "text": [
      "1 0b1\n",
      "2 0b10\n",
      "3 0b11\n",
      "4 0b100\n",
      "5 0b101\n",
      "6 0b110\n",
      "7 0b111\n",
      "8 0b1000\n",
      "9 0b1001\n",
      "10 0b1010\n",
      "11 0b1011\n",
      "12 0b1100\n",
      "13 0b1101\n",
      "14 0b1110\n",
      "15 0b1111\n",
      "16 0b10000\n",
      "17 0b10001\n",
      "18 0b10010\n",
      "19 0b10011\n",
      "20 0b10100\n",
      "21 0b10101\n",
      "22 0b10110\n",
      "23 0b10111\n",
      "24 0b11000\n",
      "25 0b11001\n",
      "26 0b11010\n",
      "27 0b11011\n",
      "28 0b11100\n",
      "29 0b11101\n",
      "30 0b11110\n",
      "31 0b11111\n"
     ]
    }
   ],
   "source": [
    "for i in range(31):\n",
    "    i=i+1\n",
    "    print( i , bin(i))"
   ]
  },
  {
   "cell_type": "code",
   "execution_count": 43,
   "metadata": {},
   "outputs": [
    {
     "name": "stdout",
     "output_type": "stream",
     "text": [
      "003.14\n"
     ]
    }
   ],
   "source": [
    "msg = '%06.2f' % 3.14159\n",
    "print(msg)"
   ]
  },
  {
   "cell_type": "code",
   "execution_count": 45,
   "metadata": {},
   "outputs": [
    {
     "name": "stdout",
     "output_type": "stream",
     "text": [
      "[[], [], [], [], []]\n"
     ]
    }
   ],
   "source": [
    "Card=[]\n",
    "for i in range(5):\n",
    "    Card.append([])\n",
    "print(Card)\n",
    "    "
   ]
  },
  {
   "cell_type": "code",
   "execution_count": 48,
   "metadata": {},
   "outputs": [
    {
     "name": "stdout",
     "output_type": "stream",
     "text": [
      "[[], [], [0, 1, 2, 3, 4, 5, 6, 7, 0, 1, 2, 3, 4, 5, 6, 7], [], []]\n"
     ]
    }
   ],
   "source": [
    "for i in range(8):\n",
    "    Card[2].append(i)\n",
    "print(Card)"
   ]
  },
  {
   "cell_type": "code",
   "execution_count": 9,
   "metadata": {},
   "outputs": [
    {
     "data": {
      "text/plain": [
       "str"
      ]
     },
     "execution_count": 9,
     "metadata": {},
     "output_type": "execute_result"
    }
   ],
   "source": [
    "b=oct(23)\n",
    "type(b)\n",
    "a=hex(b)\n",
    "type(a)"
   ]
  },
  {
   "cell_type": "code",
   "execution_count": null,
   "metadata": {},
   "outputs": [],
   "source": [
    "# 1 int k = 4;\n",
    "# 2 int m = 1;\n",
    "# 3 for (int i=1; i<=5; i=i+1) {\n",
    "# 4 for (int j=1; j<=k; j=j+1) {\n",
    "# 5 printf (\" \");\n",
    "# 6 }\n",
    "# 7 for (int j=1; j<=m; j=j+1) {\n",
    "# 8 printf (\"*\");\n",
    "# 9 }\n",
    "# 10 printf (\"\\n\");\n",
    "# 11 k = k – 1;\n",
    "# 12 m = m + 1;\n",
    "# 13 }\n",
    "\n",
    "# 1. 右側程式正確的輸出應該如下：\n",
    "# *\n",
    "# ***\n",
    "# *****\n",
    "# *******\n",
    "# *********\n",
    "# 在不修改右側程式之第4 行及第7 行程\n",
    "# 式碼的前提下，最少需修改幾行程式碼\n",
    "# 以得到正確輸出？\n",
    "# (A) 1\n",
    "# (B) 2\n",
    "# (C) 3\n",
    "# (D) 4"
   ]
  },
  {
   "cell_type": "code",
   "execution_count": 10,
   "metadata": {},
   "outputs": [
    {
     "name": "stdout",
     "output_type": "stream",
     "text": [
      "     *\n",
      "    **\n",
      "   ***\n",
      "  ****\n",
      " *****\n"
     ]
    }
   ],
   "source": [
    "k=4\n",
    "m=1\n",
    "for i in range(1,5+1):\n",
    "    for j in range(k+1):\n",
    "        print(' ',end='')\n",
    "    for j in range(1,m+1):\n",
    "        print('*',end='')\n",
    "    print()\n",
    "    k=k-1\n",
    "    m=m+1"
   ]
  },
  {
   "cell_type": "code",
   "execution_count": 18,
   "metadata": {},
   "outputs": [
    {
     "name": "stdout",
     "output_type": "stream",
     "text": [
      "-----*\n",
      "----**\n",
      "---***\n",
      "--****\n",
      "-*****\n"
     ]
    }
   ],
   "source": [
    "k=4\n",
    "m=1\n",
    "for i in range(1,5+1):\n",
    "    for j in range(k+1):\n",
    "        print('-',end='')\n",
    "    for j in range(1,m+1):\n",
    "        print('*',end='')\n",
    "    print()\n",
    "    k=k-1\n",
    "    m=m+1"
   ]
  },
  {
   "cell_type": "code",
   "execution_count": 19,
   "metadata": {},
   "outputs": [
    {
     "name": "stdout",
     "output_type": "stream",
     "text": [
      "-----*\n",
      "----***\n",
      "---*****\n",
      "--*******\n",
      "-*********\n"
     ]
    }
   ],
   "source": [
    "k=4\n",
    "m=1\n",
    "for i in range(5):        #i用不到\n",
    "    for j in range(k+1):\n",
    "        print('-',end='')\n",
    "    for j in range(1,m+1):\n",
    "        print('*',end='')\n",
    "    print()\n",
    "    k=k-1\n",
    "    m=m+2"
   ]
  },
  {
   "cell_type": "code",
   "execution_count": null,
   "metadata": {},
   "outputs": [],
   "source": [
    "# int f (int a[], int n) {\n",
    "# int index = 0;\n",
    "# for (int i=1; i<=n-1; i=i+1) {\n",
    "# if (a[i] >= a[index]) {\n",
    "# index = i;\n",
    "# }\n",
    "# }\n",
    "# return index;\n",
    "# }\n",
    "\n",
    "\n",
    "# 給定一陣列a[10]={ 1, 3, 9, 2, 5,\n",
    "# 8, 4, 9, 6, 7 }，i.e., a[0]=1,a[1]=3, …,\n",
    "# a[8]=6, a[9]=7，以f(a, 10)呼叫執行右側\n",
    "# 函式後，回傳值為何？\n",
    "# (A) 1\n",
    "# (B) 2\n",
    "# (C) 7\n",
    "# (D) 9"
   ]
  },
  {
   "cell_type": "code",
   "execution_count": 25,
   "metadata": {},
   "outputs": [
    {
     "data": {
      "text/plain": [
       "9"
      ]
     },
     "execution_count": 25,
     "metadata": {},
     "output_type": "execute_result"
    }
   ],
   "source": [
    "a=[1,3,9,2,5,8,4,9,6,7]\n",
    "f(a,10)"
   ]
  },
  {
   "cell_type": "code",
   "execution_count": 34,
   "metadata": {},
   "outputs": [],
   "source": [
    "def f( a=[], n=0):\n",
    "    index=0\n",
    "    for i in range(1,n):\n",
    "        if a[i] >=a[index] :\n",
    "            index=i\n",
    "    return i    #錯誤=>永遠是9"
   ]
  },
  {
   "cell_type": "code",
   "execution_count": 35,
   "metadata": {},
   "outputs": [
    {
     "data": {
      "text/plain": [
       "9"
      ]
     },
     "execution_count": 35,
     "metadata": {},
     "output_type": "execute_result"
    }
   ],
   "source": [
    "a=[1,3,9,2,5,8,4,9,6,7]\n",
    "f(a,10)"
   ]
  },
  {
   "cell_type": "code",
   "execution_count": 36,
   "metadata": {},
   "outputs": [],
   "source": [
    "def f( a=[], n=0):\n",
    "    index=0\n",
    "    for i in range(1,n):\n",
    "        if a[i] >=a[index] :\n",
    "            index=i\n",
    "    return index   #正確"
   ]
  },
  {
   "cell_type": "code",
   "execution_count": 37,
   "metadata": {},
   "outputs": [
    {
     "data": {
      "text/plain": [
       "7"
      ]
     },
     "execution_count": 37,
     "metadata": {},
     "output_type": "execute_result"
    }
   ],
   "source": [
    "a=[1,3,9,2,5,8,4,9,6,7]\n",
    "f(a,10)"
   ]
  },
  {
   "cell_type": "code",
   "execution_count": 38,
   "metadata": {},
   "outputs": [],
   "source": [
    "def f( a=[], n=0):\n",
    "    index=0\n",
    "    for i in range(1,n):\n",
    "        if a[i] >a[index] :  #沒有=時\n",
    "            index=i\n",
    "    return index"
   ]
  },
  {
   "cell_type": "code",
   "execution_count": 39,
   "metadata": {},
   "outputs": [
    {
     "data": {
      "text/plain": [
       "2"
      ]
     },
     "execution_count": 39,
     "metadata": {},
     "output_type": "execute_result"
    }
   ],
   "source": [
    "a=[1,3,9,2,5,8,4,9,6,7]\n",
    "f(a,10)"
   ]
  },
  {
   "cell_type": "markdown",
   "metadata": {},
   "source": [
    "3%%2"
   ]
  },
  {
   "cell_type": "code",
   "execution_count": 45,
   "metadata": {},
   "outputs": [
    {
     "data": {
      "text/plain": [
       "1"
      ]
     },
     "execution_count": 45,
     "metadata": {},
     "output_type": "execute_result"
    }
   ],
   "source": [
    "5%2 #餘數"
   ]
  },
  {
   "cell_type": "code",
   "execution_count": 46,
   "metadata": {},
   "outputs": [
    {
     "data": {
      "text/plain": [
       "2.5"
      ]
     },
     "execution_count": 46,
     "metadata": {},
     "output_type": "execute_result"
    }
   ],
   "source": [
    "5/2  #2.5"
   ]
  },
  {
   "cell_type": "code",
   "execution_count": 47,
   "metadata": {},
   "outputs": [
    {
     "data": {
      "text/plain": [
       "2"
      ]
     },
     "execution_count": 47,
     "metadata": {},
     "output_type": "execute_result"
    }
   ],
   "source": [
    "5//2 #只有商數"
   ]
  },
  {
   "cell_type": "code",
   "execution_count": 48,
   "metadata": {},
   "outputs": [],
   "source": [
    "# int f1(int a[], int value) {\n",
    "# int r_value = -1;\n",
    "# int i = 0;\n",
    "# while (i < 100) {\n",
    "# if (a[i] == value) {\n",
    "# r_value = i;\n",
    "# break;\n",
    "# }\n",
    "# i = i + 1;\n",
    "# }\n",
    "# return r_value;\n",
    "# }\n",
    "\n",
    "\n",
    "\n",
    "\n",
    "# int f2(int a[], int value) {\n",
    "# int r_value = -1;\n",
    "# int low = 0, high = 99;\n",
    "# int mid;\n",
    "# while (low <= high) {\n",
    "# mid = (low + high)/2;\n",
    "# if (a[mid] == value) {\n",
    "# r_value = mid;\n",
    "# break;\n",
    "# }\n",
    "# else if (a[mid] < value) {\n",
    "# low = mid + 1;\n",
    "# }\n",
    "# else {\n",
    "# high = mid - 1;\n",
    "# }\n",
    "# }\n",
    "# return r_value;\n",
    "# }\n",
    "\n",
    "\n",
    "# 給定一整數陣列a[0]、a[1]、…、a[99]且a[k]=3k+1，以value=100 呼叫以下兩函式，假設\n",
    "# 函式f1 及f2 之while 迴圈主體分別執行n1 與n2 次 (i.e, 計算if 敘述執行次數，不\n",
    "# 包含 else if 敘述)，請問n1 與n2 之值為何? 註： (low + high)/2 只取整數部分。\n",
    "# (A) n1=33, n2=4\n",
    "# (B) n1=33, n2=5\n",
    "# (C) n1=34, n2=4\n",
    "# (D) n1=34, n2=5"
   ]
  },
  {
   "cell_type": "code",
   "execution_count": 50,
   "metadata": {},
   "outputs": [],
   "source": [
    "a=[]\n",
    "for i in range(100):\n",
    "    a.append(3*i+1)"
   ]
  },
  {
   "cell_type": "code",
   "execution_count": 51,
   "metadata": {},
   "outputs": [
    {
     "name": "stdout",
     "output_type": "stream",
     "text": [
      "[1, 4, 7, 10, 13, 16, 19, 22, 25, 28, 31, 34, 37, 40, 43, 46, 49, 52, 55, 58, 61, 64, 67, 70, 73, 76, 79, 82, 85, 88, 91, 94, 97, 100, 103, 106, 109, 112, 115, 118, 121, 124, 127, 130, 133, 136, 139, 142, 145, 148, 151, 154, 157, 160, 163, 166, 169, 172, 175, 178, 181, 184, 187, 190, 193, 196, 199, 202, 205, 208, 211, 214, 217, 220, 223, 226, 229, 232, 235, 238, 241, 244, 247, 250, 253, 256, 259, 262, 265, 268, 271, 274, 277, 280, 283, 286, 289, 292, 295, 298]\n"
     ]
    }
   ],
   "source": [
    "print(a)"
   ]
  },
  {
   "cell_type": "code",
   "execution_count": 52,
   "metadata": {},
   "outputs": [],
   "source": [
    "# (def f1(a=[],b=-1):\n",
    "#     r_value=-1\n",
    "#     for )\n"
   ]
  },
  {
   "cell_type": "code",
   "execution_count": 54,
   "metadata": {},
   "outputs": [],
   "source": [
    "###第四題"
   ]
  },
  {
   "cell_type": "code",
   "execution_count": null,
   "metadata": {},
   "outputs": [],
   "source": []
  }
 ],
 "metadata": {
  "kernelspec": {
   "display_name": "Python 3",
   "language": "python",
   "name": "python3"
  },
  "language_info": {
   "codemirror_mode": {
    "name": "ipython",
    "version": 3
   },
   "file_extension": ".py",
   "mimetype": "text/x-python",
   "name": "python",
   "nbconvert_exporter": "python",
   "pygments_lexer": "ipython3",
   "version": "3.7.3"
  }
 },
 "nbformat": 4,
 "nbformat_minor": 2
}
