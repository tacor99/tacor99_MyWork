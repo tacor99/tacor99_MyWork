{
 "cells": [
  {
   "cell_type": "code",
   "execution_count": 24,
   "metadata": {},
   "outputs": [
    {
     "name": "stdout",
     "output_type": "stream",
     "text": [
      "['', '', 'abc', '', '', '23', '1', '', '', '', '75', '33', '', '']\n"
     ]
    }
   ],
   "source": [
    "a=\"  abc   23 1    75 33  \"\n",
    "b=a.split(' ')\n",
    "print(b)"
   ]
  },
  {
   "cell_type": "code",
   "execution_count": 2,
   "metadata": {},
   "outputs": [
    {
     "name": "stdout",
     "output_type": "stream",
     "text": [
      "  abc   23 1    75 33\n"
     ]
    }
   ],
   "source": [
    "c=' '.join()\n",
    "print(c)"
   ]
  },
  {
   "cell_type": "code",
   "execution_count": 25,
   "metadata": {},
   "outputs": [
    {
     "name": "stdout",
     "output_type": "stream",
     "text": [
      "['abc', '23', '1', '', '', '75', '33', '', '']\n"
     ]
    }
   ],
   "source": [
    "for i in b:\n",
    "    if i=='':    \n",
    "        b.remove(i)\n",
    "print(b)"
   ]
  },
  {
   "cell_type": "code",
   "execution_count": 12,
   "metadata": {},
   "outputs": [
    {
     "name": "stdout",
     "output_type": "stream",
     "text": [
      "abc 23 1 75 33\n"
     ]
    }
   ],
   "source": [
    "c=' '.join(b)\n",
    "print(c)"
   ]
  },
  {
   "cell_type": "code",
   "execution_count": 23,
   "metadata": {},
   "outputs": [
    {
     "name": "stdout",
     "output_type": "stream",
     "text": [
      "['abc', '23', '1', '75', '33']\n"
     ]
    }
   ],
   "source": [
    "d=list(filter(lambda x:x!='',b))\n",
    "print(d)"
   ]
  },
  {
   "cell_type": "code",
   "execution_count": 26,
   "metadata": {},
   "outputs": [
    {
     "data": {
      "text/plain": [
       "1"
      ]
     },
     "execution_count": 26,
     "metadata": {},
     "output_type": "execute_result"
    }
   ],
   "source": [
    "1|0"
   ]
  },
  {
   "cell_type": "code",
   "execution_count": 27,
   "metadata": {},
   "outputs": [
    {
     "name": "stdout",
     "output_type": "stream",
     "text": [
      "aaa:1111 10101 10001\n"
     ]
    }
   ],
   "source": [
    "a=input('aaa:')"
   ]
  },
  {
   "cell_type": "code",
   "execution_count": 28,
   "metadata": {},
   "outputs": [
    {
     "name": "stdout",
     "output_type": "stream",
     "text": [
      "1111 10101 10001\n"
     ]
    }
   ],
   "source": [
    "print(a)"
   ]
  },
  {
   "cell_type": "code",
   "execution_count": 29,
   "metadata": {},
   "outputs": [
    {
     "data": {
      "text/plain": [
       "str"
      ]
     },
     "execution_count": 29,
     "metadata": {},
     "output_type": "execute_result"
    }
   ],
   "source": [
    "type(a)"
   ]
  },
  {
   "cell_type": "code",
   "execution_count": 34,
   "metadata": {},
   "outputs": [],
   "source": [
    "b=a.split()"
   ]
  },
  {
   "cell_type": "code",
   "execution_count": 35,
   "metadata": {},
   "outputs": [
    {
     "data": {
      "text/plain": [
       "['1111', '10101', '10001']"
      ]
     },
     "execution_count": 35,
     "metadata": {},
     "output_type": "execute_result"
    }
   ],
   "source": [
    "b"
   ]
  },
  {
   "cell_type": "code",
   "execution_count": 36,
   "metadata": {},
   "outputs": [
    {
     "data": {
      "text/plain": [
       "list"
      ]
     },
     "execution_count": 36,
     "metadata": {},
     "output_type": "execute_result"
    }
   ],
   "source": [
    "type(b)"
   ]
  },
  {
   "cell_type": "code",
   "execution_count": 37,
   "metadata": {},
   "outputs": [
    {
     "name": "stdout",
     "output_type": "stream",
     "text": [
      "['1111', '10101', '10001']\n"
     ]
    }
   ],
   "source": [
    "print(b)"
   ]
  },
  {
   "cell_type": "code",
   "execution_count": 42,
   "metadata": {},
   "outputs": [
    {
     "name": "stdout",
     "output_type": "stream",
     "text": [
      "1 0b1\n",
      "2 0b10\n",
      "3 0b11\n",
      "4 0b100\n",
      "5 0b101\n",
      "6 0b110\n",
      "7 0b111\n",
      "8 0b1000\n",
      "9 0b1001\n",
      "10 0b1010\n",
      "11 0b1011\n",
      "12 0b1100\n",
      "13 0b1101\n",
      "14 0b1110\n",
      "15 0b1111\n",
      "16 0b10000\n",
      "17 0b10001\n",
      "18 0b10010\n",
      "19 0b10011\n",
      "20 0b10100\n",
      "21 0b10101\n",
      "22 0b10110\n",
      "23 0b10111\n",
      "24 0b11000\n",
      "25 0b11001\n",
      "26 0b11010\n",
      "27 0b11011\n",
      "28 0b11100\n",
      "29 0b11101\n",
      "30 0b11110\n",
      "31 0b11111\n"
     ]
    }
   ],
   "source": [
    "for i in range(31):\n",
    "    i=i+1\n",
    "    print( i , bin(i))"
   ]
  },
  {
   "cell_type": "code",
   "execution_count": 43,
   "metadata": {},
   "outputs": [
    {
     "name": "stdout",
     "output_type": "stream",
     "text": [
      "003.14\n"
     ]
    }
   ],
   "source": [
    "msg = '%06.2f' % 3.14159\n",
    "print(msg)"
   ]
  },
  {
   "cell_type": "code",
   "execution_count": 45,
   "metadata": {},
   "outputs": [
    {
     "name": "stdout",
     "output_type": "stream",
     "text": [
      "[[], [], [], [], []]\n"
     ]
    }
   ],
   "source": [
    "Card=[]\n",
    "for i in range(5):\n",
    "    Card.append([])\n",
    "print(Card)\n",
    "    "
   ]
  },
  {
   "cell_type": "code",
   "execution_count": 48,
   "metadata": {},
   "outputs": [
    {
     "name": "stdout",
     "output_type": "stream",
     "text": [
      "[[], [], [0, 1, 2, 3, 4, 5, 6, 7, 0, 1, 2, 3, 4, 5, 6, 7], [], []]\n"
     ]
    }
   ],
   "source": [
    "for i in range(8):\n",
    "    Card[2].append(i)\n",
    "print(Card)"
   ]
  },
  {
   "cell_type": "code",
   "execution_count": null,
   "metadata": {},
   "outputs": [],
   "source": [
    "a"
   ]
  }
 ],
 "metadata": {
  "kernelspec": {
   "display_name": "Python 3",
   "language": "python",
   "name": "python3"
  },
  "language_info": {
   "codemirror_mode": {
    "name": "ipython",
    "version": 3
   },
   "file_extension": ".py",
   "mimetype": "text/x-python",
   "name": "python",
   "nbconvert_exporter": "python",
   "pygments_lexer": "ipython3",
   "version": "3.7.3"
  }
 },
 "nbformat": 4,
 "nbformat_minor": 2
}
