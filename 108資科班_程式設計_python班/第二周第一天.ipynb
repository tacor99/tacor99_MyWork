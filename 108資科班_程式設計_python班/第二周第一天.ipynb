{
 "cells": [
  {
   "cell_type": "code",
   "execution_count": 27,
   "metadata": {},
   "outputs": [
    {
     "name": "stdout",
     "output_type": "stream",
     "text": [
      "['我', '我的', '妳', '妳的', '心', '溫柔', '日子', '雨', '風', '天空', '雲', '等待', '哭泣', '戀愛', '相遇', '分離', '忘記', '心醉', '驀然', '吹過', '思念', '靈魂', '停止']\n"
     ]
    },
    {
     "data": {
      "text/plain": [
       "\"\\ndef poet():\\n    b=sample(a, )\\n   c=''\\n    for i in b:\\n        c=c+i+' '\\n    print(c)\\n\""
      ]
     },
     "execution_count": 27,
     "metadata": {},
     "output_type": "execute_result"
    }
   ],
   "source": [
    "from random import sample, randint\n",
    "\n",
    "words='''我\n",
    "我的\n",
    "妳\n",
    "妳的\n",
    "心\n",
    "溫柔\n",
    "日子\n",
    "雨\n",
    "風\n",
    "天空\n",
    "雲\n",
    "等待\n",
    "哭泣\n",
    "戀愛\n",
    "相遇\n",
    "分離\n",
    "忘記\n",
    "心醉\n",
    "驀然\n",
    "吹過\n",
    "思念\n",
    "靈魂\n",
    "停止'''\n",
    "\n",
    "a=words.split('\\n')\n",
    "\n",
    "\n",
    "def poem():\n",
    "    n=randint(3,6)\n",
    "    b=sample(a, )\n",
    "    c=''\n",
    "    for i in b:\n",
    "        c=c+i+' '\n",
    "    print(c)\n",
    "'''"
   ]
  },
  {
   "cell_type": "code",
   "execution_count": 22,
   "metadata": {},
   "outputs": [
    {
     "name": "stdout",
     "output_type": "stream",
     "text": [
      "心醉 溫柔 妳 妳的 \n"
     ]
    }
   ],
   "source": [
    "from random import sample, randint\n",
    "n=randint(3,6)"
   ]
  },
  {
   "cell_type": "code",
   "execution_count": 23,
   "metadata": {},
   "outputs": [
    {
     "name": "stdout",
     "output_type": "stream",
     "text": [
      "我 吹過 風 分離 \n"
     ]
    }
   ],
   "source": [
    "poet()"
   ]
  },
  {
   "cell_type": "code",
   "execution_count": 24,
   "metadata": {},
   "outputs": [
    {
     "name": "stdout",
     "output_type": "stream",
     "text": [
      "靈魂 相遇 心醉 停止 \n"
     ]
    }
   ],
   "source": [
    "poet()"
   ]
  },
  {
   "cell_type": "code",
   "execution_count": null,
   "metadata": {},
   "outputs": [],
   "source": [
    "# 获得 Iterator 对象\n",
    "it = iter([1, 2, 3])\n",
    "\n",
    "# 循环\n",
    "while True:\n",
    "    try:\n",
    "        # 获得下一个值\n",
    "        x = next(it)\n",
    "        print x\n",
    "    except StopIteration:\n",
    "        # 没有后续元素，退出循环\n",
    "        break"
   ]
  }
 ],
 "metadata": {
  "kernelspec": {
   "display_name": "Python 3",
   "language": "python",
   "name": "python3"
  },
  "language_info": {
   "codemirror_mode": {
    "name": "ipython",
    "version": 3
   },
   "file_extension": ".py",
   "mimetype": "text/x-python",
   "name": "python",
   "nbconvert_exporter": "python",
   "pygments_lexer": "ipython3",
   "version": "3.7.3"
  }
 },
 "nbformat": 4,
 "nbformat_minor": 2
}
