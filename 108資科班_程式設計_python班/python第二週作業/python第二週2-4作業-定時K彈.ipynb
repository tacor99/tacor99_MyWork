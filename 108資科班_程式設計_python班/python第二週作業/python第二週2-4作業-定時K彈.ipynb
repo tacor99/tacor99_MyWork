{
 "cells": [
  {
   "cell_type": "code",
   "execution_count": null,
   "metadata": {},
   "outputs": [],
   "source": [
    "'''\n",
    "題目說明：\n",
    "n代表參加定時K彈的人數\n",
    "從第一人依次傳遞一個炸彈\n",
    "在第m人爆炸\n",
    "要炸K次\n",
    "問:最後一次爆炸的下一個人是幾位?\n",
    "\n",
    "作法說明:\n",
    "請輸入n m k三數, 中間以空白隔開:8 3 6（假設）\n",
    "8個數字就形成8個環狀鍵結\n",
    "每個list的第一個數字代表程式第16行的data\n",
    "每個list的第一個數字代表程式第17行的next指向下一個位置8人\n",
    "位置(list)編号分別是0, 1, 2, 3, 4, 5, 6, 7 \n",
    "[1, 1] ->[2, 2] ->[3, 3] ->[4, 4] ->[5, 5] ->[6, 6] ->[7, 7] ->[8, 0]  ->[1, 1] \n",
    "再由環狀鍵結\n",
    "去找每3人爆炸一次\n",
    "共爆炸6次\n",
    "進而找出\n",
    "最後一次爆炸的下一個人是第4位\n",
    "\n",
    "'''\n",
    "temp1=input('請輸入n m k三數, 中間以空白隔開:')\n",
    "temp2=temp1.split()\n",
    "n=int(temp2[0])\n",
    "m=int(temp2[1])\n",
    "k=int(temp2[2])\n",
    "\n",
    "temp4=[]\n",
    "for i in range(n-1):    \n",
    "    temp3=[]\n",
    "    data=i+1\n",
    "    next=i+1\n",
    "    temp3.append(data)\n",
    "    temp3.append(next)    \n",
    "    temp4.append(temp3)\n",
    "temp3=[]\n",
    "temp3.append(n)\n",
    "temp3.append(0)    \n",
    "temp4.append(temp3)\n",
    "\n",
    "count=0\n",
    "current=0\n",
    "pre=0\n",
    "i=0\n",
    "while i<k:\n",
    "    count=count+1\n",
    "    if (count==m):\n",
    "        \n",
    "    \n",
    "        pre=current\n",
    "    \n",
    "        \n",
    "        "
   ]
  },
  {
   "cell_type": "code",
   "execution_count": null,
   "metadata": {},
   "outputs": [],
   "source": [
    "print(temp4)"
   ]
  },
  {
   "cell_type": "code",
   "execution_count": null,
   "metadata": {},
   "outputs": [],
   "source": [
    "    "
   ]
  },
  {
   "cell_type": "code",
   "execution_count": null,
   "metadata": {},
   "outputs": [],
   "source": []
  },
  {
   "cell_type": "code",
   "execution_count": null,
   "metadata": {},
   "outputs": [],
   "source": []
  },
  {
   "cell_type": "code",
   "execution_count": null,
   "metadata": {},
   "outputs": [],
   "source": []
  },
  {
   "cell_type": "code",
   "execution_count": null,
   "metadata": {},
   "outputs": [],
   "source": []
  },
  {
   "cell_type": "code",
   "execution_count": null,
   "metadata": {},
   "outputs": [],
   "source": []
  },
  {
   "cell_type": "code",
   "execution_count": null,
   "metadata": {},
   "outputs": [],
   "source": []
  }
 ],
 "metadata": {
  "kernelspec": {
   "display_name": "Python 3",
   "language": "python",
   "name": "python3"
  },
  "language_info": {
   "codemirror_mode": {
    "name": "ipython",
    "version": 3
   },
   "file_extension": ".py",
   "mimetype": "text/x-python",
   "name": "python",
   "nbconvert_exporter": "python",
   "pygments_lexer": "ipython3",
   "version": "3.7.3"
  }
 },
 "nbformat": 4,
 "nbformat_minor": 2
}
