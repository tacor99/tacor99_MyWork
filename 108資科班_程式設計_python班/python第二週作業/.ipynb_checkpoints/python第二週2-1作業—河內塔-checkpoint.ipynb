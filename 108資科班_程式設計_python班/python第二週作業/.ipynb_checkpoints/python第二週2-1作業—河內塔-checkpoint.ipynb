{
 "cells": [
  {
   "cell_type": "code",
   "execution_count": 10,
   "metadata": {},
   "outputs": [
    {
     "name": "stdout",
     "output_type": "stream",
     "text": [
      "要搬幾個?4\n",
      "\n",
      "由a搬至b\n",
      "由a搬至c\n",
      "由b搬至c\n",
      "由a搬至b\n",
      "由c搬至a\n",
      "由c搬至b\n",
      "由a搬至b\n",
      "由a搬至c\n",
      "由b搬至c\n",
      "由b搬至a\n",
      "由c搬至a\n",
      "由b搬至c\n",
      "由a搬至b\n",
      "由a搬至c\n",
      "由b搬至c\n",
      "\n",
      "總共搬15次\n"
     ]
    }
   ],
   "source": [
    "'''\n",
    "河內塔問題:計算搬運次數\n",
    "\n",
    "n=要搬運的圓盤個數\n",
    "在a柱上有n個由小到大的圓盤\n",
    "b,c柱子是空的\n",
    "\n",
    "問題是: (1)a搬到c的搬法?  (2)總共搬了幾次？\n",
    "'''\n",
    "\n",
    "def 河內塔(n,a,b,c):\n",
    "    if n==1:\n",
    "        return [(a,c)]\n",
    "    else:\n",
    "        return 河內塔(n-1,a,c,b)+河內塔(1,a,b,c)+河內塔(n-1,b,a,c)\n",
    "    \n",
    "n=input(\"要搬幾個?\")\n",
    "print()\n",
    "\n",
    "i=0\n",
    "for move in 河內塔(int(n),'a','b','c'):\n",
    "    print(\"由%c搬至%c\"%move)\n",
    "    i=i+1\n",
    "\n",
    "print()\n",
    "print('總共搬%d次'%i)"
   ]
  },
  {
   "cell_type": "code",
   "execution_count": null,
   "metadata": {},
   "outputs": [],
   "source": []
  }
 ],
 "metadata": {
  "kernelspec": {
   "display_name": "Python 3",
   "language": "python",
   "name": "python3"
  },
  "language_info": {
   "codemirror_mode": {
    "name": "ipython",
    "version": 3
   },
   "file_extension": ".py",
   "mimetype": "text/x-python",
   "name": "python",
   "nbconvert_exporter": "python",
   "pygments_lexer": "ipython3",
   "version": "3.7.3"
  }
 },
 "nbformat": 4,
 "nbformat_minor": 2
}
