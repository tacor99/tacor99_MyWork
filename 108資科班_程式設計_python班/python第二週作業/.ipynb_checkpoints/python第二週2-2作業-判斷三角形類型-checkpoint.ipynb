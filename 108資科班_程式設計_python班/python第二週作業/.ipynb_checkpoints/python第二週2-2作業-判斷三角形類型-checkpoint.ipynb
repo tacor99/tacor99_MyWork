{
 "cells": [
  {
   "cell_type": "code",
   "execution_count": 2,
   "metadata": {},
   "outputs": [
    {
     "name": "stdout",
     "output_type": "stream",
     "text": [
      "請輸入三角形的整數三邊長, 並用空白鍵隔開, 若要結束輸入, 請輸入q:10 10 100\n",
      "無法形成三角形！\n",
      "請輸入三角形的整數三邊長, 並用空白鍵隔開, 若要結束輸入, 請輸入q:q\n"
     ]
    }
   ],
   "source": [
    "'''\n",
    "給三角形三邊長\n",
    "判斷三角形類型\n",
    "'''\n",
    "while True:\n",
    "    x=input('請輸入三角形的整數三邊長, 並用空白鍵隔開, 若要結束輸入, 請輸入q:')\n",
    "    y=x.split()\n",
    "    \n",
    "    if x=='q':\n",
    "        break\n",
    "    \n",
    "    a=int(y[0])\n",
    "    b=int(y[1])\n",
    "    c=int(y[2])\n",
    "    \n",
    "    if a>b:\n",
    "        temp=a\n",
    "        a=b\n",
    "        b=temp  \n",
    "    if b>c:\n",
    "        temp=b\n",
    "        b=c\n",
    "        c=temp\n",
    "    if a>b:\n",
    "        temp=a\n",
    "        a=b\n",
    "        b=temp\n",
    "        \n",
    "    if a+b<c:\n",
    "        print('無法形成三角形！')\n",
    "        continue\n",
    "    \n",
    "    aa=a*a\n",
    "    bb=b*b\n",
    "    cc=c*c\n",
    "    \n",
    "    \n",
    "    if aa+bb<cc:\n",
    "        print('這是鈍角三角形')\n",
    "    if aa+bb==cc:\n",
    "        print('這是直角三角形')\n",
    "    if aa+bb>cc:\n",
    "        print('這是銳角三角形')"
   ]
  },
  {
   "cell_type": "code",
   "execution_count": 1,
   "metadata": {},
   "outputs": [
    {
     "name": "stdout",
     "output_type": "stream",
     "text": [
      "当前字母 : P\n",
      "当前字母 : y\n",
      "当前字母 : t\n",
      "当前变量值 : 10\n",
      "当前变量值 : 9\n",
      "当前变量值 : 8\n",
      "当前变量值 : 7\n",
      "当前变量值 : 6\n",
      "Good bye!\n"
     ]
    }
   ],
   "source": [
    "#練習#\n",
    "#!/usr/bin/python\n",
    "# -*- coding: UTF-8 -*-\n",
    " \n",
    "for letter in 'Python':     # 第一个实例\n",
    "   if letter == 'h':\n",
    "      break\n",
    "   print ('当前字母 :', letter)\n",
    "  \n",
    "var = 10                    # 第二个实例\n",
    "while var > 0:              \n",
    "   print ('当前变量值 :', var)\n",
    "   var = var -1\n",
    "   if var == 5:   # 当变量 var 等于 5 时退出循环\n",
    "      break\n",
    " \n",
    "print (\"Good bye!\")"
   ]
  },
  {
   "cell_type": "code",
   "execution_count": null,
   "metadata": {},
   "outputs": [],
   "source": []
  }
 ],
 "metadata": {
  "kernelspec": {
   "display_name": "Python 3",
   "language": "python",
   "name": "python3"
  },
  "language_info": {
   "codemirror_mode": {
    "name": "ipython",
    "version": 3
   },
   "file_extension": ".py",
   "mimetype": "text/x-python",
   "name": "python",
   "nbconvert_exporter": "python",
   "pygments_lexer": "ipython3",
   "version": "3.7.3"
  }
 },
 "nbformat": 4,
 "nbformat_minor": 2
}
