{
 "cells": [
  {
   "cell_type": "code",
   "execution_count": 8,
   "metadata": {},
   "outputs": [],
   "source": [
    "#APCS106年3月實作題第三題\n",
    "#數字龍捲風問題描述\n",
    "# 給定一個 N*N 的二維陣列，其中 N 是奇數，我們可以從正中間的位置開始，以順時\n",
    "# 針旋轉的方式走訪每個陣列元素恰好一次。對於給定的陣列內容與起始方向，請輸出\n",
    "# 走訪順序之內容。下面的例子顯示了 N=5 且第一步往左的走訪順序：\n",
    "# 依此順序輸出陣列內容則可以得到「9123857324243421496834621」。\n",
    "# 類似地，如果是第一步向上，則走訪順序如下：\n",
    "# 依此順序輸出陣列內容則可以得到「9385732124214968346214243」。\n",
    "# 輸入格式\n",
    "# 輸入第一行是整數 N，N 為奇數且不小於 3。第二行是一個 0~3 的整數代表起始方向，\n",
    "# 其中 0 代表左、1 代表上、2 代表右、3 代表下。第三行開始 N 行是陣列內容，順序\n",
    "# 是由上而下，由左至右，陣列的內容為 0~9 的整數，同一行數字中間以一個空白間隔。\n",
    "# 輸出格式\n",
    "# 請輸出走訪順序的陣列內容，該答案會是一連串的數字，數字之間不要輸出空白，結\n",
    "# 尾有換行符號。\n",
    "# 範例一：輸入\n",
    "# 5\n",
    "# 0\n",
    "# 3 4 2 1 4\n",
    "# 4 2 3 8 9\n",
    "# 2 1 9 5 6\n",
    "# 4 2 3 7 8\n",
    "# 1 2 6 4 3\n",
    "# 範例一：正確輸出\n",
    "# 9123857324243421496834621\n",
    "# 範例二：輸入\n",
    "# 3\n",
    "# 1\n",
    "# 4 1 2\n",
    "# 3 0 5\n",
    "# 6 7 8\n",
    "# 範例二：正確輸出\n",
    "# 012587634\n",
    "#  106 年 03 月 04 日\n",
    "# 程式設計實作題\n",
    "# 評分說明\n",
    "# 輸入包含若干筆測試資料，每一筆測試資料的執行時間限制(time limit)均為 1 秒，依\n",
    "# 正確通過測資筆數給分。其中：\n",
    "# 第 1 子題組 20 分，3 ≤ N ≤ 5，且起始方向均為向左。\n",
    "# 第 2 子題組 80 分，3 ≤ N ≤ 49，起始方向無限定。\n",
    "# 提示：本題有多種處理方式，其中之一是觀察每次轉向與走的步數。例如，起始方向是向\n",
    "# 左時，前幾步的走法是：左 1、上 1、右 2、下 2、左 3、上 3、……一直到出界為止。\n"
   ]
  },
  {
   "cell_type": "code",
   "execution_count": 9,
   "metadata": {},
   "outputs": [
    {
     "name": "stdout",
     "output_type": "stream",
     "text": [
      "5\n",
      "0\n",
      "3 4 2 1 4\n",
      "4 2 3 8 9\n",
      "2 1 9 5 6\n",
      "4 2 3 7 8\n",
      "1 2 6 4 3\n"
     ]
    }
   ],
   "source": [
    "#建立矩陣\n",
    "a=int(input())\n",
    "b=int(input())\n",
    "c=[]\n",
    "for i in range(a):\n",
    "    c.append(list(map(int, input().split())))"
   ]
  },
  {
   "cell_type": "code",
   "execution_count": 10,
   "metadata": {},
   "outputs": [],
   "source": [
    "#移動函數\n",
    "def move(x, i, j):\n",
    "    if x==0:\n",
    "        return i, j-1\n",
    "    elif x==1:\n",
    "        return i-1, j\n",
    "    elif x==2:\n",
    "        return i, j+1\n",
    "    else:\n",
    "        return i+1, j\n",
    "\n",
    "    "
   ]
  },
  {
   "cell_type": "code",
   "execution_count": 14,
   "metadata": {},
   "outputs": [
    {
     "name": "stdout",
     "output_type": "stream",
     "text": [
      "結果為:\n",
      "9123857324243421496834621\n"
     ]
    }
   ],
   "source": [
    "#1計算龍捲風串列\n",
    "d=[]\n",
    "e, f=int(a/2),int(a/2)\n",
    "d.append(c[e][f])\n",
    "g=0\n",
    "h=1\n",
    "while  g<a**2:\n",
    "    for i in range(h):\n",
    "        g=g+1\n",
    "        if g>=a**2:\n",
    "            break\n",
    "        e, f=move(b, e, f)\n",
    "        d.append(c[e][f])\n",
    "    b=(b+1)%4\n",
    "    \n",
    "    for i in range(h):\n",
    "        g=g+1\n",
    "        if g>=a**2:\n",
    "            break\n",
    "        e, f=move(b, e, f)\n",
    "        d.append(c[e][f])\n",
    "    b=(b+1)%4\n",
    "    \n",
    "    for i in range(h+1):\n",
    "        g=g+1\n",
    "        if g>=a**2:\n",
    "            break\n",
    "        e, f=move(b, e, f)\n",
    "        d.append(c[e][f])\n",
    "    b=(b+1)%4\n",
    "    \n",
    "    for i in range(h+1):\n",
    "        g=g+1\n",
    "        if g>=a**2:\n",
    "            break\n",
    "        e, f=move(b, e, f)\n",
    "        d.append(c[e][f])\n",
    "    b=(b+1)%4\n",
    "    h=h+2\n",
    "    \n",
    "print('結果為:')\n",
    "print(''.join(map(str,d)))\n",
    "    \n",
    "    \n",
    "        "
   ]
  },
  {
   "cell_type": "code",
   "execution_count": null,
   "metadata": {},
   "outputs": [],
   "source": []
  }
 ],
 "metadata": {
  "kernelspec": {
   "display_name": "Python 3",
   "language": "python",
   "name": "python3"
  },
  "language_info": {
   "codemirror_mode": {
    "name": "ipython",
    "version": 3
   },
   "file_extension": ".py",
   "mimetype": "text/x-python",
   "name": "python",
   "nbconvert_exporter": "python",
   "pygments_lexer": "ipython3",
   "version": "3.7.3"
  }
 },
 "nbformat": 4,
 "nbformat_minor": 2
}
