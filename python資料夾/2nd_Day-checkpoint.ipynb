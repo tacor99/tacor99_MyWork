{
 "cells": [
  {
   "cell_type": "code",
   "execution_count": 2,
   "metadata": {},
   "outputs": [],
   "source": [
    "import numpy as np\n",
    "import matplotlib.pyplot as plt"
   ]
  },
  {
   "cell_type": "code",
   "execution_count": 13,
   "metadata": {},
   "outputs": [],
   "source": [
    "\n",
    "π=np.pi\n",
    "θ=np.linspace(0,2*π,500)\n",
    "\n",
    "r=1-np.cos(θ)\n",
    "x=r*np.sin(θ)\n",
    "y=r*np.cos(θ)"
   ]
  },
  {
   "cell_type": "markdown",
   "metadata": {},
   "source": [
    "## 123\n",
    "### 456\n",
    "ax=plt.gca()\n",
    "ax.set_aspect('equal')\n",
    "\n",
    "plt.plot(x,y,'r')\n",
    "\n",
    "\n",
    "\n"
   ]
  },
  {
   "cell_type": "code",
   "execution_count": 14,
   "metadata": {},
   "outputs": [
    {
     "name": "stdout",
     "output_type": "stream",
     "text": [
      "ヽ(●´∀`●)ﾉ\n"
     ]
    }
   ],
   "source": [
    "from IPython.display import clear_output\n",
    "import time\n",
    "\n",
    "sp = 0\n",
    "emoticon = 'ヽ(●´∀`●)ﾉ'\n",
    "\n",
    "for i in range(25):\n",
    "    k = (-1)**np.random.randint(1,3)\n",
    "    print(sp,k)\n",
    "    sp = sp + k\n",
    "    \n",
    "    if sp < 0:\n",
    "        sp = 0\n",
    "    #elif sp > 50:\n",
    "    #    sp = 50\n",
    "    clear_output(wait=True)\n",
    "    print(' '*sp + emoticon)\n",
    "    time.sleep(0.5)"
   ]
  },
  {
   "cell_type": "code",
   "execution_count": null,
   "metadata": {},
   "outputs": [],
   "source": [
    "2+2"
   ]
  },
  {
   "cell_type": "markdown",
   "metadata": {},
   "source": [
    "### arkdown\n",
    "### 123"
   ]
  },
  {
   "cell_type": "markdown",
   "metadata": {},
   "source": [
    "[政大MOOCS](https://twistedsifter.files.wordpress.com/2019/05/crowded-everest-summit-cover.jpg?w=800)"
   ]
  },
  {
   "cell_type": "code",
   "execution_count": null,
   "metadata": {},
   "outputs": [],
   "source": [
    "![這是圖片](crowded-everest-summit-cover.jpg)"
   ]
  },
  {
   "cell_type": "code",
   "execution_count": 16,
   "metadata": {},
   "outputs": [
    {
     "name": "stdout",
     "output_type": "stream",
     "text": [
      " 磁碟區 C 中的磁碟是 Acer\n",
      " 磁碟區序號:  02CA-393A\n",
      "\n",
      " C:\\Users\\user\\Desktop\\python資料夾 的目錄\n",
      "\n",
      "2019/07/16  下午 02:15    <DIR>          .\n",
      "2019/07/16  下午 02:15    <DIR>          ..\n",
      "2019/07/15  下午 05:51    <DIR>          .ipynb_checkpoints\n",
      "2019/07/16  下午 02:00            56,810 2019-01-14-image-6.jpg\n",
      "2019/07/16  下午 02:07             3,913 2nd_Day.ipynb\n",
      "2019/07/16  下午 01:34            18,033 2nd_Day-checkpoint.ipynb\n",
      "2019/07/16  下午 01:51            76,289 crowded-everest-summit-cover.jpg\n",
      "2019/07/15  下午 06:24    <DIR>          Python-Programming-master\n",
      "2019/07/15  下午 06:24           182,966 Python作業1-1.ipynb\n",
      "2019/07/16  下午 01:31            16,243 python作業1-2.ipynb\n",
      "2019/07/15  下午 08:35             1,800 python作業1-3.ipynb\n",
      "2019/07/16  下午 02:15            32,976 test.jpg\n",
      "               8 個檔案         389,030 位元組\n",
      "               4 個目錄  167,647,846,400 位元組可用\n"
     ]
    }
   ],
   "source": [
    "%ls"
   ]
  },
  {
   "cell_type": "markdown",
   "metadata": {},
   "source": [
    "![這是圖片](test.png)"
   ]
  },
  {
   "cell_type": "markdown",
   "metadata": {},
   "source": [
    "![test](test.jpg)"
   ]
  },
  {
   "cell_type": "code",
   "execution_count": null,
   "metadata": {},
   "outputs": [],
   "source": []
  }
 ],
 "metadata": {
  "kernelspec": {
   "display_name": "Python 3",
   "language": "python",
   "name": "python3"
  },
  "language_info": {
   "codemirror_mode": {
    "name": "ipython",
    "version": 3
   },
   "file_extension": ".py",
   "mimetype": "text/x-python",
   "name": "python",
   "nbconvert_exporter": "python",
   "pygments_lexer": "ipython3",
   "version": "3.7.3"
  }
 },
 "nbformat": 4,
 "nbformat_minor": 2
}
