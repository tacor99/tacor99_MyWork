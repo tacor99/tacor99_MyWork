{
 "cells": [
  {
   "cell_type": "code",
   "execution_count": null,
   "metadata": {},
   "outputs": [],
   "source": [
    "from random import randint\n",
    "k=randint(1,10)\n",
    "a=int(input('請猜一個1-10的數字：'))\n",
    "while a!=k :\n",
    "    a=input('請猜一個1-10的數字：')\n",
    "print('你猜對!!!')\n",
    "    "
   ]
  },
  {
   "cell_type": "code",
   "execution_count": null,
   "metadata": {},
   "outputs": [],
   "source": []
  }
 ],
 "metadata": {
  "kernelspec": {
   "display_name": "Python 3",
   "language": "python",
   "name": "python3"
  }
 },
 "nbformat": 4,
 "nbformat_minor": 2
}
